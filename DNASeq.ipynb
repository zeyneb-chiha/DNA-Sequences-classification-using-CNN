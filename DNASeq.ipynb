{
  "nbformat": 4,
  "nbformat_minor": 0,
  "metadata": {
    "colab": {
      "name": "DNASeq.ipynb",
      "provenance": [],
      "collapsed_sections": []
    },
    "kernelspec": {
      "name": "python3",
      "display_name": "Python 3"
    },
    "accelerator": "GPU"
  },
  "cells": [
    {
      "cell_type": "code",
      "metadata": {
        "id": "JNhQJtKJucSp",
        "colab": {
          "base_uri": "https://localhost:8080/"
        },
        "outputId": "1067b9ee-2f83-4f88-82c2-e2cf62d55425"
      },
      "source": [
        "from google.colab import drive\n",
        "drive.mount('/content/drive')"
      ],
      "execution_count": 1,
      "outputs": [
        {
          "output_type": "stream",
          "text": [
            "Mounted at /content/drive\n"
          ],
          "name": "stdout"
        }
      ]
    },
    {
      "cell_type": "markdown",
      "metadata": {
        "id": "0we_S6mf_kRj"
      },
      "source": [
        "In this tutorial, we will show how to use deep learning to classify DNA sequences of Human, chimp, dogs! \r\n",
        "Using CNN with sequences is not easy and not classic but in Classification cases CNN still the most perfermant and recommanded that's why i will discover using CNN in Ginomics sequences simple classification which can be used later in more important cases in Ginomics field\r\n",
        "First we gonna implement a CNN model for simple dna sequences data in binary classification problem.\r\n",
        "\r\n"
      ]
    },
    {
      "cell_type": "code",
      "metadata": {
        "id": "YyARQUijugO-"
      },
      "source": [
        "import numpy as np\n",
        "import pandas as pd\n",
        "%matplotlib inline \n",
        "import cv2\n",
        "from PIL import Image\n",
        "from keras import layers\n",
        "from keras.utils.np_utils import to_categorical\n",
        "from keras.models import Sequential\n",
        "from keras.optimizers import Adam\n",
        "import matplotlib.pyplot as plt\n",
        "from sklearn.model_selection import train_test_split\n",
        "from sklearn.metrics import cohen_kappa_score, accuracy_score\n",
        "import tensorflow as tf\n"
      ],
      "execution_count": 2,
      "outputs": []
    },
    {
      "cell_type": "markdown",
      "metadata": {
        "id": "nG-O9k5ZBQpQ"
      },
      "source": [
        "\r\n",
        "We will use simulated data that consists of DNA sequences of length 50 bases (chosen to be artificially short so that the data is easy to play around with), and is labeled with 0 or 1 depending on the result of the assay. Our goal is to build a classifier that can predict whether a particular sequence will bind to the protein and discover the short motif that is the binding site in the sequences that are bound to the protein."
      ]
    },
    {
      "cell_type": "code",
      "metadata": {
        "colab": {
          "base_uri": "https://localhost:8080/",
          "height": 191
        },
        "id": "kYg35d-M4IUs",
        "outputId": "9ab17739-c918-4819-c4b7-43d096a18504"
      },
      "source": [
        "import numpy as np\r\n",
        "import pandas as pd\r\n",
        "import matplotlib.pyplot as plt\r\n",
        "import requests\r\n",
        "\r\n",
        "SEQUENCES_URL ='https://raw.githubusercontent.com/zeyneb-chiha/DNA-Sequences-classification-using-CNN/main/DNAsequences.txt'\r\n",
        "\r\n",
        "sequences = requests.get(SEQUENCES_URL).text.split('\\n')\r\n",
        "sequences = list(filter(None, sequences))  # This removes empty sequences.\r\n",
        "\r\n",
        "# Let's print the first few sequences.\r\n",
        "pd.DataFrame(sequences, index=np.arange(1, len(sequences)+1), \r\n",
        "             columns=['Sequences']).head()"
      ],
      "execution_count": 13,
      "outputs": [
        {
          "output_type": "execute_result",
          "data": {
            "text/html": [
              "<div>\n",
              "<style scoped>\n",
              "    .dataframe tbody tr th:only-of-type {\n",
              "        vertical-align: middle;\n",
              "    }\n",
              "\n",
              "    .dataframe tbody tr th {\n",
              "        vertical-align: top;\n",
              "    }\n",
              "\n",
              "    .dataframe thead th {\n",
              "        text-align: right;\n",
              "    }\n",
              "</style>\n",
              "<table border=\"1\" class=\"dataframe\">\n",
              "  <thead>\n",
              "    <tr style=\"text-align: right;\">\n",
              "      <th></th>\n",
              "      <th>Sequences</th>\n",
              "    </tr>\n",
              "  </thead>\n",
              "  <tbody>\n",
              "    <tr>\n",
              "      <th>1</th>\n",
              "      <td>CCGAGGGCTATGGTTTGGAAGTTAGAACCCTGGGGCTTCTCGCGGA...</td>\n",
              "    </tr>\n",
              "    <tr>\n",
              "      <th>2</th>\n",
              "      <td>GAGTTTATATGGCGCGAGCCTAGTGGTTTTTGTACTTGTTTGTCGC...</td>\n",
              "    </tr>\n",
              "    <tr>\n",
              "      <th>3</th>\n",
              "      <td>GATCAGTAGGGAAACAAACAGAGGGCCCAGCCACATCTAGCAGGTA...</td>\n",
              "    </tr>\n",
              "    <tr>\n",
              "      <th>4</th>\n",
              "      <td>GTCCACGACCGAACTCCCACCTTGACCGCAGAGGTACCACCAGAGC...</td>\n",
              "    </tr>\n",
              "    <tr>\n",
              "      <th>5</th>\n",
              "      <td>GGCGACCGAACTCCAACTAGAACCTGCATAACTGGCCTGGGAGATA...</td>\n",
              "    </tr>\n",
              "  </tbody>\n",
              "</table>\n",
              "</div>"
            ],
            "text/plain": [
              "                                           Sequences\n",
              "1  CCGAGGGCTATGGTTTGGAAGTTAGAACCCTGGGGCTTCTCGCGGA...\n",
              "2  GAGTTTATATGGCGCGAGCCTAGTGGTTTTTGTACTTGTTTGTCGC...\n",
              "3  GATCAGTAGGGAAACAAACAGAGGGCCCAGCCACATCTAGCAGGTA...\n",
              "4  GTCCACGACCGAACTCCCACCTTGACCGCAGAGGTACCACCAGAGC...\n",
              "5  GGCGACCGAACTCCAACTAGAACCTGCATAACTGGCCTGGGAGATA..."
            ]
          },
          "metadata": {
            "tags": []
          },
          "execution_count": 13
        }
      ]
    },
    {
      "cell_type": "markdown",
      "metadata": {
        "id": "tGKJmCnOB_cD"
      },
      "source": [
        "The next step is to organize the data into a format that can be passed into a CNN  algorithm: we use one-hot encoding\r\n"
      ]
    },
    {
      "cell_type": "code",
      "metadata": {
        "colab": {
          "base_uri": "https://localhost:8080/"
        },
        "id": "q0l_FTL_4Lur",
        "outputId": "06081313-a0e1-4bd0-db36-dfe1776b4420"
      },
      "source": [
        "from sklearn.preprocessing import LabelEncoder, OneHotEncoder\r\n",
        "\r\n",
        "# The LabelEncoder encodes a sequence of bases as a sequence of integers.\r\n",
        "integer_encoder = LabelEncoder()  \r\n",
        "# The OneHotEncoder converts an array of integers to a sparse matrix where \r\n",
        "# each row corresponds to one possible value of each feature.\r\n",
        "one_hot_encoder = OneHotEncoder(categories='auto')   \r\n",
        "input_features = []\r\n",
        "\r\n",
        "for sequence in sequences:\r\n",
        "  integer_encoded = integer_encoder.fit_transform(list(sequence))\r\n",
        "  integer_encoded = np.array(integer_encoded).reshape(-1, 1)\r\n",
        "  one_hot_encoded = one_hot_encoder.fit_transform(integer_encoded)\r\n",
        "  input_features.append(one_hot_encoded.toarray())\r\n",
        "\r\n",
        "np.set_printoptions(threshold=40)\r\n",
        "input_features = np.stack(input_features)\r\n",
        "print(\"Example sequence\\n-----------------------\")\r\n",
        "print('DNA Sequence #1:\\n',sequences[0][:10],'...',sequences[0][-10:])\r\n",
        "print('One hot encoding of Sequence #1:\\n',input_features[0].T)"
      ],
      "execution_count": 14,
      "outputs": [
        {
          "output_type": "stream",
          "text": [
            "Example sequence\n",
            "-----------------------\n",
            "DNA Sequence #1:\n",
            " CCGAGGGCTA ... CGCGGACACC\n",
            "One hot encoding of Sequence #1:\n",
            " [[0. 0. 0. ... 1. 0. 0.]\n",
            " [1. 1. 0. ... 0. 1. 1.]\n",
            " [0. 0. 1. ... 0. 0. 0.]\n",
            " [0. 0. 0. ... 0. 0. 0.]]\n"
          ],
          "name": "stdout"
        }
      ]
    },
    {
      "cell_type": "code",
      "metadata": {
        "colab": {
          "base_uri": "https://localhost:8080/"
        },
        "id": "lrH3PHv64SpS",
        "outputId": "b51d79e9-ae96-494c-8478-e15b2cd9f1fb"
      },
      "source": [
        "LABELS_URL = 'https://raw.githubusercontent.com/zeyneb-chiha/DNA-Sequences-classification-using-CNN/main/labels.txt'\r\n",
        "\r\n",
        "labels = requests.get(LABELS_URL).text.split('\\n')\r\n",
        "labels = list(filter(None, labels))  # removes empty sequences\r\n",
        "\r\n",
        "one_hot_encoder = OneHotEncoder(categories='auto')\r\n",
        "labels = np.array(labels).reshape(-1, 1)\r\n",
        "input_labels = one_hot_encoder.fit_transform(labels).toarray()\r\n",
        "\r\n",
        "print('Labels:\\n',labels.T)\r\n",
        "print('One-hot encoded labels:\\n',input_labels.T)"
      ],
      "execution_count": 16,
      "outputs": [
        {
          "output_type": "stream",
          "text": [
            "Labels:\n",
            " [['0' '0' '0' ... '0' '1' '1']]\n",
            "One-hot encoded labels:\n",
            " [[1. 1. 1. ... 1. 0. 0.]\n",
            " [0. 0. 0. ... 0. 1. 1.]]\n"
          ],
          "name": "stdout"
        }
      ]
    },
    {
      "cell_type": "code",
      "metadata": {
        "id": "DPGXJVqL-fwB"
      },
      "source": [
        "from sklearn.model_selection import train_test_split\r\n",
        "\r\n",
        "train_features, test_features, train_labels, test_labels = train_test_split(\r\n",
        "    input_features, input_labels, test_size=0.25, random_state=42)"
      ],
      "execution_count": 17,
      "outputs": []
    },
    {
      "cell_type": "code",
      "metadata": {
        "colab": {
          "base_uri": "https://localhost:8080/"
        },
        "id": "XKmsAlDl-hd0",
        "outputId": "bd412d1d-c082-4e35-c994-1d5896c37a0f"
      },
      "source": [
        "from tensorflow.keras.layers import Conv1D, Dense, MaxPooling1D, Flatten\r\n",
        "from tensorflow.keras.models import Sequential\r\n",
        "\r\n",
        "model = Sequential()\r\n",
        "model.add(Conv1D(filters=32, kernel_size=12, \r\n",
        "                 input_shape=(train_features.shape[1], 4)))\r\n",
        "model.add(MaxPooling1D(pool_size=4))\r\n",
        "model.add(Flatten())\r\n",
        "model.add(Dense(16, activation='relu'))\r\n",
        "model.add(Dense(2, activation='softmax'))\r\n",
        "\r\n",
        "model.compile(loss='binary_crossentropy', optimizer='adam', \r\n",
        "              metrics=['binary_accuracy'])\r\n",
        "model.summary()"
      ],
      "execution_count": 18,
      "outputs": [
        {
          "output_type": "stream",
          "text": [
            "Model: \"sequential\"\n",
            "_________________________________________________________________\n",
            "Layer (type)                 Output Shape              Param #   \n",
            "=================================================================\n",
            "conv1d (Conv1D)              (None, 39, 32)            1568      \n",
            "_________________________________________________________________\n",
            "max_pooling1d (MaxPooling1D) (None, 9, 32)             0         \n",
            "_________________________________________________________________\n",
            "flatten (Flatten)            (None, 288)               0         \n",
            "_________________________________________________________________\n",
            "dense (Dense)                (None, 16)                4624      \n",
            "_________________________________________________________________\n",
            "dense_1 (Dense)              (None, 2)                 34        \n",
            "=================================================================\n",
            "Total params: 6,226\n",
            "Trainable params: 6,226\n",
            "Non-trainable params: 0\n",
            "_________________________________________________________________\n"
          ],
          "name": "stdout"
        }
      ]
    },
    {
      "cell_type": "code",
      "metadata": {
        "colab": {
          "base_uri": "https://localhost:8080/",
          "height": 295
        },
        "id": "PG7KIrAT-5aL",
        "outputId": "ed9f4309-16cf-4782-e7ac-9a79ca49735c"
      },
      "source": [
        "history = model.fit(train_features, train_labels, \r\n",
        "                    epochs=50, verbose=0, validation_split=0.25)\r\n",
        "\r\n",
        "plt.figure()\r\n",
        "plt.plot(history.history['loss'])\r\n",
        "plt.plot(history.history['val_loss'])\r\n",
        "plt.title('model loss')\r\n",
        "plt.ylabel('loss')\r\n",
        "plt.xlabel('epoch')\r\n",
        "plt.legend(['train', 'validation'])\r\n",
        "plt.show()"
      ],
      "execution_count": 19,
      "outputs": [
        {
          "output_type": "display_data",
          "data": {
            "image/png": "[encoded data removed]",
            "text/plain": [
              "<Figure size 432x288 with 1 Axes>"
            ]
          },
          "metadata": {
            "tags": [],
            "needs_background": "light"
          }
        }
      ]
    },
    {
      "cell_type": "code",
      "metadata": {
        "colab": {
          "base_uri": "https://localhost:8080/",
          "height": 295
        },
        "id": "6kj0qCr_-_X6",
        "outputId": "02e3e7a3-e188-4cf0-aab7-c34e43268f85"
      },
      "source": [
        "plt.figure()\r\n",
        "plt.plot(history.history['binary_accuracy'])\r\n",
        "plt.plot(history.history['val_binary_accuracy'])\r\n",
        "plt.title('model accuracy')\r\n",
        "plt.ylabel('accuracy')\r\n",
        "plt.xlabel('epoch')\r\n",
        "plt.legend(['train', 'validation'])\r\n",
        "plt.show()"
      ],
      "execution_count": 20,
      "outputs": [
        {
          "output_type": "display_data",
          "data": {
            "image/png": "[encoded data removed]",
            "text/plain": [
              "<Figure size 432x288 with 1 Axes>"
            ]
          },
          "metadata": {
            "tags": [],
            "needs_background": "light"
          }
        }
      ]
    },
    {
      "cell_type": "code",
      "metadata": {
        "colab": {
          "base_uri": "https://localhost:8080/",
          "height": 343
        },
        "id": "TUDcWqnR_G0x",
        "outputId": "b113a62c-9ff8-452a-e39f-c3f1dc3a557b"
      },
      "source": [
        "from sklearn.metrics import confusion_matrix\r\n",
        "import itertools\r\n",
        "\r\n",
        "predicted_labels = model.predict(np.stack(test_features))\r\n",
        "cm = confusion_matrix(np.argmax(test_labels, axis=1), \r\n",
        "                      np.argmax(predicted_labels, axis=1))\r\n",
        "print('Confusion matrix:\\n',cm)\r\n",
        "\r\n",
        "cm = cm.astype('float') / cm.sum(axis = 1)[:, np.newaxis]\r\n",
        "\r\n",
        "plt.imshow(cm, cmap=plt.cm.Blues)\r\n",
        "plt.title('Normalized confusion matrix')\r\n",
        "plt.colorbar()\r\n",
        "plt.xlabel('True label')\r\n",
        "plt.ylabel('Predicted label')\r\n",
        "plt.xticks([0, 1]); plt.yticks([0, 1])\r\n",
        "plt.grid('off')\r\n",
        "for i, j in itertools.product(range(cm.shape[0]), range(cm.shape[1])):\r\n",
        "    plt.text(j, i, format(cm[i, j], '.2f'),\r\n",
        "             horizontalalignment='center',\r\n",
        "             color='white' if cm[i, j] > 0.5 else 'black')"
      ],
      "execution_count": 21,
      "outputs": [
        {
          "output_type": "stream",
          "text": [
            "Confusion matrix:\n",
            " [[258   1]\n",
            " [  1 240]]\n"
          ],
          "name": "stdout"
        },
        {
          "output_type": "display_data",
          "data": {
            "image/png": "[encoded data removed]",
            "text/plain": [
              "<Figure size 432x288 with 2 Axes>"
            ]
          },
          "metadata": {
            "tags": [],
            "needs_background": "light"
          }
        }
      ]
    },
    {
      "cell_type": "markdown",
      "metadata": {
        "id": "7SJiLXhPCMBt"
      },
      "source": [
        "**Human, Chim and dog DNA seq classification**\r\n",
        "\r\n",
        "In this case we have data of DNA sequence with different length which will cause trouble with one hot encoding algorithm , so here the part of data pre-processing is so important! Let's Start"
      ]
    },
    {
      "cell_type": "code",
      "metadata": {
        "id": "xztFiO5qukAt",
        "colab": {
          "base_uri": "https://localhost:8080/",
          "height": 191
        },
        "outputId": "ee1ae5ab-cb80-411d-c891-88649436d676"
      },
      "source": [
        "human = pd.read_table('/content/drive/My Drive/dnadata/human_data.txt')\n",
        "human.head()"
      ],
      "execution_count": 22,
      "outputs": [
        {
          "output_type": "execute_result",
          "data": {
            "text/html": [
              "<div>\n",
              "<style scoped>\n",
              "    .dataframe tbody tr th:only-of-type {\n",
              "        vertical-align: middle;\n",
              "    }\n",
              "\n",
              "    .dataframe tbody tr th {\n",
              "        vertical-align: top;\n",
              "    }\n",
              "\n",
              "    .dataframe thead th {\n",
              "        text-align: right;\n",
              "    }\n",
              "</style>\n",
              "<table border=\"1\" class=\"dataframe\">\n",
              "  <thead>\n",
              "    <tr style=\"text-align: right;\">\n",
              "      <th></th>\n",
              "      <th>sequence</th>\n",
              "      <th>class</th>\n",
              "    </tr>\n",
              "  </thead>\n",
              "  <tbody>\n",
              "    <tr>\n",
              "      <th>0</th>\n",
              "      <td>ATGCCCCAACTAAATACTACCGTATGGCCCACCATAATTACCCCCA...</td>\n",
              "      <td>4</td>\n",
              "    </tr>\n",
              "    <tr>\n",
              "      <th>1</th>\n",
              "      <td>ATGAACGAAAATCTGTTCGCTTCATTCATTGCCCCCACAATCCTAG...</td>\n",
              "      <td>4</td>\n",
              "    </tr>\n",
              "    <tr>\n",
              "      <th>2</th>\n",
              "      <td>ATGTGTGGCATTTGGGCGCTGTTTGGCAGTGATGATTGCCTTTCTG...</td>\n",
              "      <td>3</td>\n",
              "    </tr>\n",
              "    <tr>\n",
              "      <th>3</th>\n",
              "      <td>ATGTGTGGCATTTGGGCGCTGTTTGGCAGTGATGATTGCCTTTCTG...</td>\n",
              "      <td>3</td>\n",
              "    </tr>\n",
              "    <tr>\n",
              "      <th>4</th>\n",
              "      <td>ATGCAACAGCATTTTGAATTTGAATACCAGACCAAAGTGGATGGTG...</td>\n",
              "      <td>3</td>\n",
              "    </tr>\n",
              "  </tbody>\n",
              "</table>\n",
              "</div>"
            ],
            "text/plain": [
              "                                            sequence  class\n",
              "0  ATGCCCCAACTAAATACTACCGTATGGCCCACCATAATTACCCCCA...      4\n",
              "1  ATGAACGAAAATCTGTTCGCTTCATTCATTGCCCCCACAATCCTAG...      4\n",
              "2  ATGTGTGGCATTTGGGCGCTGTTTGGCAGTGATGATTGCCTTTCTG...      3\n",
              "3  ATGTGTGGCATTTGGGCGCTGTTTGGCAGTGATGATTGCCTTTCTG...      3\n",
              "4  ATGCAACAGCATTTTGAATTTGAATACCAGACCAAAGTGGATGGTG...      3"
            ]
          },
          "metadata": {
            "tags": []
          },
          "execution_count": 22
        }
      ]
    },
    {
      "cell_type": "markdown",
      "metadata": {
        "id": "vB7WTqgmC8fD"
      },
      "source": [
        "Let's check length of each sequence here!"
      ]
    },
    {
      "cell_type": "code",
      "metadata": {
        "id": "UTc-grYbxQqi"
      },
      "source": [
        "human['seq_len'] = human.apply(lambda x: len(x['sequence']),axis=1)\n"
      ],
      "execution_count": 23,
      "outputs": []
    },
    {
      "cell_type": "code",
      "metadata": {
        "id": "IDSeTehgxYmw",
        "colab": {
          "base_uri": "https://localhost:8080/",
          "height": 191
        },
        "outputId": "887cec18-a2cc-4810-ecb4-aa4c2c6bc4fe"
      },
      "source": [
        "human.head()"
      ],
      "execution_count": 25,
      "outputs": [
        {
          "output_type": "execute_result",
          "data": {
            "text/html": [
              "<div>\n",
              "<style scoped>\n",
              "    .dataframe tbody tr th:only-of-type {\n",
              "        vertical-align: middle;\n",
              "    }\n",
              "\n",
              "    .dataframe tbody tr th {\n",
              "        vertical-align: top;\n",
              "    }\n",
              "\n",
              "    .dataframe thead th {\n",
              "        text-align: right;\n",
              "    }\n",
              "</style>\n",
              "<table border=\"1\" class=\"dataframe\">\n",
              "  <thead>\n",
              "    <tr style=\"text-align: right;\">\n",
              "      <th></th>\n",
              "      <th>sequence</th>\n",
              "      <th>class</th>\n",
              "      <th>seq_len</th>\n",
              "    </tr>\n",
              "  </thead>\n",
              "  <tbody>\n",
              "    <tr>\n",
              "      <th>0</th>\n",
              "      <td>ATGCCCCAACTAAATACTACCGTATGGCCCACCATAATTACCCCCA...</td>\n",
              "      <td>4</td>\n",
              "      <td>207</td>\n",
              "    </tr>\n",
              "    <tr>\n",
              "      <th>1</th>\n",
              "      <td>ATGAACGAAAATCTGTTCGCTTCATTCATTGCCCCCACAATCCTAG...</td>\n",
              "      <td>4</td>\n",
              "      <td>681</td>\n",
              "    </tr>\n",
              "    <tr>\n",
              "      <th>2</th>\n",
              "      <td>ATGTGTGGCATTTGGGCGCTGTTTGGCAGTGATGATTGCCTTTCTG...</td>\n",
              "      <td>3</td>\n",
              "      <td>1686</td>\n",
              "    </tr>\n",
              "    <tr>\n",
              "      <th>3</th>\n",
              "      <td>ATGTGTGGCATTTGGGCGCTGTTTGGCAGTGATGATTGCCTTTCTG...</td>\n",
              "      <td>3</td>\n",
              "      <td>1206</td>\n",
              "    </tr>\n",
              "    <tr>\n",
              "      <th>4</th>\n",
              "      <td>ATGCAACAGCATTTTGAATTTGAATACCAGACCAAAGTGGATGGTG...</td>\n",
              "      <td>3</td>\n",
              "      <td>1437</td>\n",
              "    </tr>\n",
              "  </tbody>\n",
              "</table>\n",
              "</div>"
            ],
            "text/plain": [
              "                                            sequence  class  seq_len\n",
              "0  ATGCCCCAACTAAATACTACCGTATGGCCCACCATAATTACCCCCA...      4      207\n",
              "1  ATGAACGAAAATCTGTTCGCTTCATTCATTGCCCCCACAATCCTAG...      4      681\n",
              "2  ATGTGTGGCATTTGGGCGCTGTTTGGCAGTGATGATTGCCTTTCTG...      3     1686\n",
              "3  ATGTGTGGCATTTGGGCGCTGTTTGGCAGTGATGATTGCCTTTCTG...      3     1206\n",
              "4  ATGCAACAGCATTTTGAATTTGAATACCAGACCAAAGTGGATGGTG...      3     1437"
            ]
          },
          "metadata": {
            "tags": []
          },
          "execution_count": 25
        }
      ]
    },
    {
      "cell_type": "markdown",
      "metadata": {
        "id": "3UWe6Dn6DFqf"
      },
      "source": [
        "Limitation of sequence length !"
      ]
    },
    {
      "cell_type": "code",
      "metadata": {
        "id": "tpvZg3IEr_x7"
      },
      "source": [
        "max_seq_length=50\n",
        "human['sequence']=human.apply(lambda x:''.join(list(x['sequence'])[0:max_seq_length]),axis=1)\n"
      ],
      "execution_count": 26,
      "outputs": []
    },
    {
      "cell_type": "code",
      "metadata": {
        "id": "des8bJBVhP0V",
        "colab": {
          "base_uri": "https://localhost:8080/"
        },
        "outputId": "5bf52542-bbe0-4afe-8ad0-484067636c47"
      },
      "source": [
        "print( list(np.where(human[\"seq_len\"]<50)[0]))\n",
        "dropit=list(np.where(human[\"seq_len\"]<50)[0])\n",
        "print(len(dropit))\n"
      ],
      "execution_count": 30,
      "outputs": [
        {
          "output_type": "stream",
          "text": [
            "[49, 376, 457, 533, 731, 849, 850, 857, 1118, 1188, 1844, 1845, 1934, 2441, 2934, 2948, 3487, 3498, 3534, 3845, 3883, 3986, 4108, 4109, 4335]\n",
            "25\n"
          ],
          "name": "stdout"
        }
      ]
    },
    {
      "cell_type": "code",
      "metadata": {
        "id": "8ZMJeHiFwds4",
        "colab": {
          "base_uri": "https://localhost:8080/"
        },
        "outputId": "fb94a0b1-b214-49c5-e0c2-6894ef933652"
      },
      "source": [
        "human['sequence'].drop(index=[49,376,457,533,731,849,850,875,1118,1188, 1844, 1845, 1934, 2441, 2934, 2948, 3487, 3498, 3534, 3845, 3883, 3986, 4108, 4109, 4335],axis=1)"
      ],
      "execution_count": 31,
      "outputs": [
        {
          "output_type": "execute_result",
          "data": {
            "text/plain": [
              "0       ATGCCCCAACTAAATACTACCGTATGGCCCACCATAATTACCCCCA...\n",
              "1       ATGAACGAAAATCTGTTCGCTTCATTCATTGCCCCCACAATCCTAG...\n",
              "2       ATGTGTGGCATTTGGGCGCTGTTTGGCAGTGATGATTGCCTTTCTG...\n",
              "3       ATGTGTGGCATTTGGGCGCTGTTTGGCAGTGATGATTGCCTTTCTG...\n",
              "4       ATGCAACAGCATTTTGAATTTGAATACCAGACCAAAGTGGATGGTG...\n",
              "                              ...                        \n",
              "4375    ATGGAAGATTTGGAGGAAACATTATTTGAAGAATTTGAAAACTATT...\n",
              "4376    ATGCAGTCCTTTCGGGAGCAAAGCAGTTACCACGGAAACCAGCAAA...\n",
              "4377    ATGCAGTCCTTTCGGGAGCAAAGCAGTTACCACGGAAACCAGCAAA...\n",
              "4378    ATGGGGCACCTGGTTTGCTGTCTGTGTGGCAAGTGGGCCAGTTACC...\n",
              "4379    ATGCAGTCCTTTCGGGAGCAAAGCAGTTACCACGGAAACCAGCAAA...\n",
              "Name: sequence, Length: 4355, dtype: object"
            ]
          },
          "metadata": {
            "tags": []
          },
          "execution_count": 31
        }
      ]
    },
    {
      "cell_type": "code",
      "metadata": {
        "colab": {
          "base_uri": "https://localhost:8080/",
          "height": 391
        },
        "id": "z_J3YO36Dakj",
        "outputId": "af847211-d026-41ed-dccb-735ad8a5a43c"
      },
      "source": [
        "human['seq_len'] = human.apply(lambda x: len(x['sequence']),axis=1)\r\n",
        "human.head(200)\r\n"
      ],
      "execution_count": 46,
      "outputs": [
        {
          "output_type": "execute_result",
          "data": {
            "text/html": [
              "<div>\n",
              "<style scoped>\n",
              "    .dataframe tbody tr th:only-of-type {\n",
              "        vertical-align: middle;\n",
              "    }\n",
              "\n",
              "    .dataframe tbody tr th {\n",
              "        vertical-align: top;\n",
              "    }\n",
              "\n",
              "    .dataframe thead th {\n",
              "        text-align: right;\n",
              "    }\n",
              "</style>\n",
              "<table border=\"1\" class=\"dataframe\">\n",
              "  <thead>\n",
              "    <tr style=\"text-align: right;\">\n",
              "      <th></th>\n",
              "      <th>sequence</th>\n",
              "      <th>class</th>\n",
              "      <th>seq_len</th>\n",
              "    </tr>\n",
              "  </thead>\n",
              "  <tbody>\n",
              "    <tr>\n",
              "      <th>0</th>\n",
              "      <td>ATGCCCCAACTAAATACTACCGTATGGCCCACCATAATTACCCCCA...</td>\n",
              "      <td>4</td>\n",
              "      <td>50</td>\n",
              "    </tr>\n",
              "    <tr>\n",
              "      <th>1</th>\n",
              "      <td>ATGAACGAAAATCTGTTCGCTTCATTCATTGCCCCCACAATCCTAG...</td>\n",
              "      <td>4</td>\n",
              "      <td>50</td>\n",
              "    </tr>\n",
              "    <tr>\n",
              "      <th>2</th>\n",
              "      <td>ATGTGTGGCATTTGGGCGCTGTTTGGCAGTGATGATTGCCTTTCTG...</td>\n",
              "      <td>3</td>\n",
              "      <td>50</td>\n",
              "    </tr>\n",
              "    <tr>\n",
              "      <th>3</th>\n",
              "      <td>ATGTGTGGCATTTGGGCGCTGTTTGGCAGTGATGATTGCCTTTCTG...</td>\n",
              "      <td>3</td>\n",
              "      <td>50</td>\n",
              "    </tr>\n",
              "    <tr>\n",
              "      <th>4</th>\n",
              "      <td>ATGCAACAGCATTTTGAATTTGAATACCAGACCAAAGTGGATGGTG...</td>\n",
              "      <td>3</td>\n",
              "      <td>50</td>\n",
              "    </tr>\n",
              "    <tr>\n",
              "      <th>...</th>\n",
              "      <td>...</td>\n",
              "      <td>...</td>\n",
              "      <td>...</td>\n",
              "    </tr>\n",
              "    <tr>\n",
              "      <th>195</th>\n",
              "      <td>NNGCTGGTGGAGGACACCTTCACCATAGATGAAGTCTCTGAAGTCC...</td>\n",
              "      <td>6</td>\n",
              "      <td>50</td>\n",
              "    </tr>\n",
              "    <tr>\n",
              "      <th>196</th>\n",
              "      <td>ATGCGTTTTGCTCGTTCAAAGAGAGGCTTGAGACTCAAAACTGTAG...</td>\n",
              "      <td>6</td>\n",
              "      <td>50</td>\n",
              "    </tr>\n",
              "    <tr>\n",
              "      <th>197</th>\n",
              "      <td>ATGCGTTTTGCTCGTTCAAAGAGAGGCTTGAGACTCAAAACTGTAG...</td>\n",
              "      <td>6</td>\n",
              "      <td>50</td>\n",
              "    </tr>\n",
              "    <tr>\n",
              "      <th>198</th>\n",
              "      <td>ATGAGGAACCAAGACCCAGGGAAGATGGGAAGGCAGAGAAAATCCA...</td>\n",
              "      <td>6</td>\n",
              "      <td>50</td>\n",
              "    </tr>\n",
              "    <tr>\n",
              "      <th>199</th>\n",
              "      <td>ATGCTGGCAGCTGCCTTTGCAGACTCTAACTCCAGCAGCATGAATG...</td>\n",
              "      <td>0</td>\n",
              "      <td>50</td>\n",
              "    </tr>\n",
              "  </tbody>\n",
              "</table>\n",
              "<p>200 rows × 3 columns</p>\n",
              "</div>"
            ],
            "text/plain": [
              "                                              sequence  class  seq_len\n",
              "0    ATGCCCCAACTAAATACTACCGTATGGCCCACCATAATTACCCCCA...      4       50\n",
              "1    ATGAACGAAAATCTGTTCGCTTCATTCATTGCCCCCACAATCCTAG...      4       50\n",
              "2    ATGTGTGGCATTTGGGCGCTGTTTGGCAGTGATGATTGCCTTTCTG...      3       50\n",
              "3    ATGTGTGGCATTTGGGCGCTGTTTGGCAGTGATGATTGCCTTTCTG...      3       50\n",
              "4    ATGCAACAGCATTTTGAATTTGAATACCAGACCAAAGTGGATGGTG...      3       50\n",
              "..                                                 ...    ...      ...\n",
              "195  NNGCTGGTGGAGGACACCTTCACCATAGATGAAGTCTCTGAAGTCC...      6       50\n",
              "196  ATGCGTTTTGCTCGTTCAAAGAGAGGCTTGAGACTCAAAACTGTAG...      6       50\n",
              "197  ATGCGTTTTGCTCGTTCAAAGAGAGGCTTGAGACTCAAAACTGTAG...      6       50\n",
              "198  ATGAGGAACCAAGACCCAGGGAAGATGGGAAGGCAGAGAAAATCCA...      6       50\n",
              "199  ATGCTGGCAGCTGCCTTTGCAGACTCTAACTCCAGCAGCATGAATG...      0       50\n",
              "\n",
              "[200 rows x 3 columns]"
            ]
          },
          "metadata": {
            "tags": []
          },
          "execution_count": 46
        }
      ]
    },
    {
      "cell_type": "code",
      "metadata": {
        "id": "OEkalVt0q_of"
      },
      "source": [
        "def write_to_txt(file_name,column):\n",
        "    with open(file_name, 'w') as f:\n",
        "        for item in column:\n",
        "            f.write(\"%s\\n\" % item)"
      ],
      "execution_count": 35,
      "outputs": []
    },
    {
      "cell_type": "code",
      "metadata": {
        "id": "2z41MMugrCxs"
      },
      "source": [
        "write_to_txt(\"/content/drive/MyDrive/dnadata/final seq\",human.sequence)\n"
      ],
      "execution_count": 38,
      "outputs": []
    },
    {
      "cell_type": "code",
      "metadata": {
        "colab": {
          "base_uri": "https://localhost:8080/",
          "height": 191
        },
        "id": "CRR0l6C4rs2F",
        "outputId": "e1c83ce6-819d-456b-92b1-d60b2c756c99"
      },
      "source": [
        "df = pd.read_table('/content/drive/MyDrive/dnadata/final seq',sep=\" \", names=['sequence'])\n",
        "df.head()"
      ],
      "execution_count": 39,
      "outputs": [
        {
          "output_type": "execute_result",
          "data": {
            "text/html": [
              "<div>\n",
              "<style scoped>\n",
              "    .dataframe tbody tr th:only-of-type {\n",
              "        vertical-align: middle;\n",
              "    }\n",
              "\n",
              "    .dataframe tbody tr th {\n",
              "        vertical-align: top;\n",
              "    }\n",
              "\n",
              "    .dataframe thead th {\n",
              "        text-align: right;\n",
              "    }\n",
              "</style>\n",
              "<table border=\"1\" class=\"dataframe\">\n",
              "  <thead>\n",
              "    <tr style=\"text-align: right;\">\n",
              "      <th></th>\n",
              "      <th>sequence</th>\n",
              "    </tr>\n",
              "  </thead>\n",
              "  <tbody>\n",
              "    <tr>\n",
              "      <th>0</th>\n",
              "      <td>ATGCCCCAACTAAATACTACCGTATGGCCCACCATAATTACCCCCA...</td>\n",
              "    </tr>\n",
              "    <tr>\n",
              "      <th>1</th>\n",
              "      <td>ATGAACGAAAATCTGTTCGCTTCATTCATTGCCCCCACAATCCTAG...</td>\n",
              "    </tr>\n",
              "    <tr>\n",
              "      <th>2</th>\n",
              "      <td>ATGTGTGGCATTTGGGCGCTGTTTGGCAGTGATGATTGCCTTTCTG...</td>\n",
              "    </tr>\n",
              "    <tr>\n",
              "      <th>3</th>\n",
              "      <td>ATGTGTGGCATTTGGGCGCTGTTTGGCAGTGATGATTGCCTTTCTG...</td>\n",
              "    </tr>\n",
              "    <tr>\n",
              "      <th>4</th>\n",
              "      <td>ATGCAACAGCATTTTGAATTTGAATACCAGACCAAAGTGGATGGTG...</td>\n",
              "    </tr>\n",
              "  </tbody>\n",
              "</table>\n",
              "</div>"
            ],
            "text/plain": [
              "                                            sequence\n",
              "0  ATGCCCCAACTAAATACTACCGTATGGCCCACCATAATTACCCCCA...\n",
              "1  ATGAACGAAAATCTGTTCGCTTCATTCATTGCCCCCACAATCCTAG...\n",
              "2  ATGTGTGGCATTTGGGCGCTGTTTGGCAGTGATGATTGCCTTTCTG...\n",
              "3  ATGTGTGGCATTTGGGCGCTGTTTGGCAGTGATGATTGCCTTTCTG...\n",
              "4  ATGCAACAGCATTTTGAATTTGAATACCAGACCAAAGTGGATGGTG..."
            ]
          },
          "metadata": {
            "tags": []
          },
          "execution_count": 39
        }
      ]
    },
    {
      "cell_type": "code",
      "metadata": {
        "id": "PXaISimhr-fe"
      },
      "source": [
        "df['seq_len'] =df.apply(lambda x: len(x['sequence']),axis=1)\n"
      ],
      "execution_count": 40,
      "outputs": []
    },
    {
      "cell_type": "code",
      "metadata": {
        "colab": {
          "base_uri": "https://localhost:8080/",
          "height": 191
        },
        "id": "rwubDJtNvc05",
        "outputId": "b407a5d5-2a8e-4b6f-f3b0-affd5ae4c487"
      },
      "source": [
        "df.head()"
      ],
      "execution_count": 41,
      "outputs": [
        {
          "output_type": "execute_result",
          "data": {
            "text/html": [
              "<div>\n",
              "<style scoped>\n",
              "    .dataframe tbody tr th:only-of-type {\n",
              "        vertical-align: middle;\n",
              "    }\n",
              "\n",
              "    .dataframe tbody tr th {\n",
              "        vertical-align: top;\n",
              "    }\n",
              "\n",
              "    .dataframe thead th {\n",
              "        text-align: right;\n",
              "    }\n",
              "</style>\n",
              "<table border=\"1\" class=\"dataframe\">\n",
              "  <thead>\n",
              "    <tr style=\"text-align: right;\">\n",
              "      <th></th>\n",
              "      <th>sequence</th>\n",
              "      <th>seq_len</th>\n",
              "    </tr>\n",
              "  </thead>\n",
              "  <tbody>\n",
              "    <tr>\n",
              "      <th>0</th>\n",
              "      <td>ATGCCCCAACTAAATACTACCGTATGGCCCACCATAATTACCCCCA...</td>\n",
              "      <td>50</td>\n",
              "    </tr>\n",
              "    <tr>\n",
              "      <th>1</th>\n",
              "      <td>ATGAACGAAAATCTGTTCGCTTCATTCATTGCCCCCACAATCCTAG...</td>\n",
              "      <td>50</td>\n",
              "    </tr>\n",
              "    <tr>\n",
              "      <th>2</th>\n",
              "      <td>ATGTGTGGCATTTGGGCGCTGTTTGGCAGTGATGATTGCCTTTCTG...</td>\n",
              "      <td>50</td>\n",
              "    </tr>\n",
              "    <tr>\n",
              "      <th>3</th>\n",
              "      <td>ATGTGTGGCATTTGGGCGCTGTTTGGCAGTGATGATTGCCTTTCTG...</td>\n",
              "      <td>50</td>\n",
              "    </tr>\n",
              "    <tr>\n",
              "      <th>4</th>\n",
              "      <td>ATGCAACAGCATTTTGAATTTGAATACCAGACCAAAGTGGATGGTG...</td>\n",
              "      <td>50</td>\n",
              "    </tr>\n",
              "  </tbody>\n",
              "</table>\n",
              "</div>"
            ],
            "text/plain": [
              "                                            sequence  seq_len\n",
              "0  ATGCCCCAACTAAATACTACCGTATGGCCCACCATAATTACCCCCA...       50\n",
              "1  ATGAACGAAAATCTGTTCGCTTCATTCATTGCCCCCACAATCCTAG...       50\n",
              "2  ATGTGTGGCATTTGGGCGCTGTTTGGCAGTGATGATTGCCTTTCTG...       50\n",
              "3  ATGTGTGGCATTTGGGCGCTGTTTGGCAGTGATGATTGCCTTTCTG...       50\n",
              "4  ATGCAACAGCATTTTGAATTTGAATACCAGACCAAAGTGGATGGTG...       50"
            ]
          },
          "metadata": {
            "tags": []
          },
          "execution_count": 41
        }
      ]
    },
    {
      "cell_type": "code",
      "metadata": {
        "id": "dSOQsmMzPloA"
      },
      "source": [
        "from sklearn.preprocessing import LabelEncoder, OneHotEncoder\n",
        "\n",
        "# The LabelEncoder encodes a sequence of bases as a sequence of integers.\n",
        "integer_encoder = LabelEncoder()  \n",
        "# The OneHotEncoder converts an array of integers to a sparse matrix where \n",
        "# each row corresponds to one possible value of each feature.\n",
        "one_hot_encoder = OneHotEncoder(categories='auto')   \n",
        "input_features = []\n",
        "\n",
        "for sequence in human:\n",
        "  integer_encoded = integer_encoder.fit_transform(list(sequence))\n",
        "  integer_encoded = np.array(integer_encoded).reshape(-1, 1)\n",
        "  one_hot_encoded = one_hot_encoder.fit_transform(integer_encoded)\n",
        "  input_features.append(one_hot_encoded.toarray())\n",
        "\n"
      ],
      "execution_count": 47,
      "outputs": []
    },
    {
      "cell_type": "code",
      "metadata": {
        "id": "m_SO87nzPeQS",
        "colab": {
          "base_uri": "https://localhost:8080/"
        },
        "outputId": "89c6d776-0105-4d00-bcf4-a6466d0f1fbd"
      },
      "source": [
        "print(type(input_features))\n",
        "print(type(one_hot_encoded))"
      ],
      "execution_count": 43,
      "outputs": [
        {
          "output_type": "stream",
          "text": [
            "<class 'list'>\n",
            "<class 'scipy.sparse.csr.csr_matrix'>\n"
          ],
          "name": "stdout"
        }
      ]
    },
    {
      "cell_type": "code",
      "metadata": {
        "id": "aTlJ9SB2OZ47",
        "colab": {
          "base_uri": "https://localhost:8080/"
        },
        "outputId": "b85c37a8-f0c3-4d3a-e602-2e9696482c02"
      },
      "source": [
        "np.set_printoptions(threshold=40)\n",
        "try:\n",
        "  input_features = np.stack(input_features)\n",
        "except ValueError:\n",
        "        [print(one_hot_encoded.shape) for one_hot_encoded in input_features]\n",
        "\n",
        "print(\"Example sequence\\n-----------------------\")\n",
        "print('DNA Sequence #1:\\n',sequence[0][:10],'...',sequence[0][-10:])\n",
        "print('One hot encoding of Sequence #1:\\n',input_features[0].T)"
      ],
      "execution_count": 48,
      "outputs": [
        {
          "output_type": "stream",
          "text": [
            "(8, 6)\n",
            "(5, 4)\n",
            "(7, 6)\n",
            "Example sequence\n",
            "-----------------------\n",
            "DNA Sequence #1:\n",
            " s ... s\n",
            "One hot encoding of Sequence #1:\n",
            " [[0. 0. 0. ... 0. 1. 0.]\n",
            " [0. 1. 0. ... 0. 0. 1.]\n",
            " [0. 0. 0. ... 1. 0. 0.]\n",
            " [0. 0. 1. ... 0. 0. 0.]\n",
            " [1. 0. 0. ... 0. 0. 0.]\n",
            " [0. 0. 0. ... 0. 0. 0.]]\n"
          ],
          "name": "stdout"
        }
      ]
    },
    {
      "cell_type": "code",
      "metadata": {
        "id": "DYinYGHWRtJK"
      },
      "source": [
        "labels =human.iloc[:,2].values                       \n"
      ],
      "execution_count": 49,
      "outputs": []
    },
    {
      "cell_type": "code",
      "metadata": {
        "id": "UfKHBGvRQloI",
        "colab": {
          "base_uri": "https://localhost:8080/"
        },
        "outputId": "3c36dffb-7f9e-4d22-e92f-2d61d0c9ead8"
      },
      "source": [
        "\n",
        "one_hot_encoder = OneHotEncoder(categories='auto')\n",
        "labels = np.array(labels).reshape(-1, 1)\n",
        "input_labels = one_hot_encoder.fit_transform(labels).toarray()\n",
        "\n",
        "print('Labels:\\n',labels.T)\n",
        "print('One-hot encoded labels:\\n',input_labels.T)"
      ],
      "execution_count": 50,
      "outputs": [
        {
          "output_type": "stream",
          "text": [
            "Labels:\n",
            " [[50 50 50 ... 50 50 50]]\n",
            "One-hot encoded labels:\n",
            " [[0. 0. 0. ... 0. 0. 0.]\n",
            " [0. 0. 0. ... 0. 0. 0.]\n",
            " [0. 0. 0. ... 0. 0. 0.]\n",
            " ...\n",
            " [0. 0. 0. ... 0. 0. 0.]\n",
            " [0. 0. 0. ... 0. 0. 0.]\n",
            " [1. 1. 1. ... 1. 1. 1.]]\n"
          ],
          "name": "stdout"
        }
      ]
    },
    {
      "cell_type": "code",
      "metadata": {
        "id": "AaODVeW8gjyw",
        "colab": {
          "base_uri": "https://localhost:8080/",
          "height": 280
        },
        "outputId": "8d2eade8-51e5-4e54-ae65-e5c024559c84"
      },
      "source": [
        "human['class'].value_counts().sort_index().plot.bar()\n"
      ],
      "execution_count": 51,
      "outputs": [
        {
          "output_type": "execute_result",
          "data": {
            "text/plain": [
              "<matplotlib.axes._subplots.AxesSubplot at 0x7f9210272eb8>"
            ]
          },
          "metadata": {
            "tags": []
          },
          "execution_count": 51
        },
        {
          "output_type": "display_data",
          "data": {
            "image/png": "[encoded data removed]",
            "text/plain": [
              "<Figure size 432x288 with 1 Axes>"
            ]
          },
          "metadata": {
            "tags": [],
            "needs_background": "light"
          }
        }
      ]
    },
    {
      "cell_type": "markdown",
      "metadata": {
        "id": "cTkFXke3FgYy"
      },
      "source": [
        "Apply same preprocessing for Dog DNA sequences"
      ]
    },
    {
      "cell_type": "code",
      "metadata": {
        "colab": {
          "base_uri": "https://localhost:8080/",
          "height": 191
        },
        "id": "nmEfiK3MFcC8",
        "outputId": "d955266c-2ad4-4ff8-e902-e7ca12009230"
      },
      "source": [
        "Dog = pd.read_table('/content/drive/MyDrive/dnadata/dog_data.txt')\r\n",
        "Dog.head()\r\n",
        "Dog['seq_len'] = human.apply(lambda x: len(x['sequence']),axis=1)\r\n",
        "Dog.head()"
      ],
      "execution_count": 54,
      "outputs": [
        {
          "output_type": "execute_result",
          "data": {
            "text/html": [
              "<div>\n",
              "<style scoped>\n",
              "    .dataframe tbody tr th:only-of-type {\n",
              "        vertical-align: middle;\n",
              "    }\n",
              "\n",
              "    .dataframe tbody tr th {\n",
              "        vertical-align: top;\n",
              "    }\n",
              "\n",
              "    .dataframe thead th {\n",
              "        text-align: right;\n",
              "    }\n",
              "</style>\n",
              "<table border=\"1\" class=\"dataframe\">\n",
              "  <thead>\n",
              "    <tr style=\"text-align: right;\">\n",
              "      <th></th>\n",
              "      <th>sequence</th>\n",
              "      <th>class</th>\n",
              "      <th>seq_len</th>\n",
              "    </tr>\n",
              "  </thead>\n",
              "  <tbody>\n",
              "    <tr>\n",
              "      <th>0</th>\n",
              "      <td>ATGCCACAGCTAGATACATCCACCTGATTTATTATAATCTTTTCAA...</td>\n",
              "      <td>4</td>\n",
              "      <td>204</td>\n",
              "    </tr>\n",
              "    <tr>\n",
              "      <th>1</th>\n",
              "      <td>ATGAACGAAAATCTATTCGCTTCTTTCGCTGCCCCCTCAATAATAG...</td>\n",
              "      <td>4</td>\n",
              "      <td>681</td>\n",
              "    </tr>\n",
              "    <tr>\n",
              "      <th>2</th>\n",
              "      <td>ATGGAAACACCCTTCTACGGCGATGAGGCGCTGAGCGGCCTGGGCG...</td>\n",
              "      <td>6</td>\n",
              "      <td>1044</td>\n",
              "    </tr>\n",
              "    <tr>\n",
              "      <th>3</th>\n",
              "      <td>ATGTGCACTAAAATGGAACAGCCCTTCTACCACGACGACTCATACG...</td>\n",
              "      <td>6</td>\n",
              "      <td>1044</td>\n",
              "    </tr>\n",
              "    <tr>\n",
              "      <th>4</th>\n",
              "      <td>ATGAGCCGGCAGCTAAACAGAAGCCAGAACTGCTCCTTCAGTGACG...</td>\n",
              "      <td>0</td>\n",
              "      <td>966</td>\n",
              "    </tr>\n",
              "  </tbody>\n",
              "</table>\n",
              "</div>"
            ],
            "text/plain": [
              "                                            sequence  class  seq_len\n",
              "0  ATGCCACAGCTAGATACATCCACCTGATTTATTATAATCTTTTCAA...      4      204\n",
              "1  ATGAACGAAAATCTATTCGCTTCTTTCGCTGCCCCCTCAATAATAG...      4      681\n",
              "2  ATGGAAACACCCTTCTACGGCGATGAGGCGCTGAGCGGCCTGGGCG...      6     1044\n",
              "3  ATGTGCACTAAAATGGAACAGCCCTTCTACCACGACGACTCATACG...      6     1044\n",
              "4  ATGAGCCGGCAGCTAAACAGAAGCCAGAACTGCTCCTTCAGTGACG...      0      966"
            ]
          },
          "metadata": {
            "tags": []
          },
          "execution_count": 54
        }
      ]
    }
  ]
}